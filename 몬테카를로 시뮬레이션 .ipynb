{
 "cells": [
  {
   "cell_type": "code",
   "execution_count": 6,
   "id": "ca6f4b29",
   "metadata": {},
   "outputs": [
    {
     "name": "stdout",
     "output_type": "stream",
     "text": [
      "{'선수1': 0.256, '선수2': 0.2, '선수3': 0.544}\n"
     ]
    }
   ],
   "source": [
    "import pandas as pd\n",
    "import numpy as np\n",
    "\n",
    "# 데이터 예시\n",
    "data = {'선수 ID': [1, 2, 3],\n",
    "        '이름': ['선수1', '선수2', '선수3'],\n",
    "        '승률': [0.9, 0.8, 0.7],\n",
    "        '에이스': [10, 8, 16],\n",
    "        '더블 폴트': [3, 4, 2],\n",
    "        '하드코트 승률': [0.91, 0.82, 0.90],\n",
    "        '클레이 승률': [0.89, 0.75, 0.85],\n",
    "        '잔디 승률': [0.88, 0.85, 0.9],\n",
    "        '홈 승률': [0.92, 0.8, 0.89],\n",
    "        '원정 승률': [0.88, 0.81, 0.87],\n",
    "        '대진표 위치': ['상위', '하위', '중위'],\n",
    "        '시드 상태': ['시드', '비시드', '시드'],\n",
    "        '최근 부상 여부': ['없음', '최근 부상', '없음'],\n",
    "        '휴식 기간': [2, 1, 2]}\n",
    "\n",
    "players_df = pd.DataFrame(data)\n",
    "\n",
    "# 표면 유형 설정\n",
    "surface = '하드코트 승률'\n",
    "\n",
    "def simulate_match(player1, player2, surface):\n",
    "    p1_win_probability = player1[surface] / (player1[surface] + player2[surface])\n",
    "    return np.random.random() < p1_win_probability\n",
    "\n",
    "def simulate_tournament(players_df, surface, n_simulations=1000):\n",
    "    results = {player: 0 for player in players_df['이름']}\n",
    "\n",
    "    for _ in range(n_simulations):\n",
    "        remaining_players = players_df.copy()\n",
    "        \n",
    "        while len(remaining_players) > 1:\n",
    "            winners = []\n",
    "            \n",
    "            for i in range(0, len(remaining_players), 2):\n",
    "                player1 = remaining_players.iloc[i]\n",
    "                player2 = remaining_players.iloc[min(i + 1, len(remaining_players) - 1)]\n",
    "\n",
    "                winner = player1 if simulate_match(player1, player2, surface) else player2\n",
    "                winners.append(winner['선수 ID'])\n",
    "            \n",
    "            remaining_players = players_df[players_df['선수 ID'].isin(winners)]\n",
    "\n",
    "        winner_name = remaining_players.iloc[0]['이름']\n",
    "        results[winner_name] += 1\n",
    "\n",
    "    return {player: wins / n_simulations for player, wins in results.items()}\n",
    "\n",
    "# 예측 실행\n",
    "predictions = simulate_tournament(players_df, surface)\n",
    "print(predictions)\n"
   ]
  }
 ],
 "metadata": {
  "kernelspec": {
   "display_name": "Python 3 (ipykernel)",
   "language": "python",
   "name": "python3"
  },
  "language_info": {
   "codemirror_mode": {
    "name": "ipython",
    "version": 3
   },
   "file_extension": ".py",
   "mimetype": "text/x-python",
   "name": "python",
   "nbconvert_exporter": "python",
   "pygments_lexer": "ipython3",
   "version": "3.11.2"
  }
 },
 "nbformat": 4,
 "nbformat_minor": 5
}
